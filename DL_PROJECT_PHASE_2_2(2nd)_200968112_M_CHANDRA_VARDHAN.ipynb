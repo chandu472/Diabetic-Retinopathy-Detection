{
  "nbformat": 4,
  "nbformat_minor": 0,
  "metadata": {
    "colab": {
      "provenance": [],
      "collapsed_sections": []
    },
    "kernelspec": {
      "name": "python3",
      "display_name": "Python 3"
    },
    "language_info": {
      "name": "python"
    },
    "accelerator": "GPU",
    "gpuClass": "standard"
  },
  "cells": [
    {
      "cell_type": "markdown",
      "source": [
        "# DL PROJECT"
      ],
      "metadata": {
        "id": "rVFWMt-kV8Ew"
      }
    },
    {
      "cell_type": "markdown",
      "source": [
        "## Implementing InceptionResNetV2 and RestNet50\n",
        "\n",
        "\n",
        "\n"
      ],
      "metadata": {
        "id": "COXTYyZbIqzG"
      }
    },
    {
      "cell_type": "code",
      "source": [
        "import tensorflow as tf "
      ],
      "metadata": {
        "id": "G2miiVGFc9cC"
      },
      "execution_count": null,
      "outputs": []
    },
    {
      "cell_type": "code",
      "source": [
        "import numpy as np\n",
        "import matplotlib.pyplot as plt\n",
        "import tensorflow as tf\n",
        "# from keras.preprocessing.image import img_to_array\n",
        "# from keras.preprocessing.image import array_to_img\n",
        "# from sklearn.model_selection import train_test_split\n",
        "# from PIL import Image\n",
        "# import scipy\n",
        "\n",
        "import tensorflow as tf\n",
        "from tensorflow.keras.applications import *\n",
        "from tensorflow.keras.optimizers import *\n",
        "from tensorflow.keras.losses import *\n",
        "from tensorflow.keras.layers import *\n",
        "from tensorflow.keras.models import *\n",
        "from tensorflow.keras.callbacks import *\n",
        "from tensorflow.keras.preprocessing.image import *\n",
        "from tensorflow.keras.utils import *\n",
        "# import pydot\n",
        "from sklearn.metrics import *\n",
        "from sklearn.model_selection import *\n",
        "import tensorflow.keras.backend as K\n",
        "\n",
        "# from tqdm import tqdm, tqdm_notebook\n",
        "# from colorama import Fore\n",
        "# import json\n",
        "import matplotlib.pyplot as plt\n",
        "import seaborn as sns\n",
        "from glob import glob\n",
        "from skimage.io import *\n",
        "%config Completer.use_jedi = False\n",
        "# import time\n",
        "# from sklearn.decomposition import PCA\n",
        "# from sklearn.svm import LinearSVC\n",
        "# from sklearn.linear_model import LogisticRegression\n",
        "# from sklearn.metrics import accuracy_score\n",
        "# import lightgbm as lgb\n",
        "# import xgboost as xgb\n",
        "# !pip install livelossplot\n",
        "# import livelossplot\n",
        "# from livelossplot import PlotLossesKeras\n",
        "import warnings\n",
        "warnings.filterwarnings('ignore')\n",
        "print(\"All modules have been imported\")"
      ],
      "metadata": {
        "colab": {
          "base_uri": "https://localhost:8080/"
        },
        "id": "hQX5YV0NLOyi",
        "outputId": "9ef7eaec-e70f-45a6-8822-9d23c23b6130"
      },
      "execution_count": null,
      "outputs": [
        {
          "output_type": "stream",
          "name": "stdout",
          "text": [
            "All modules have been imported\n"
          ]
        }
      ]
    },
    {
      "cell_type": "markdown",
      "source": [
        "## DIABETIC RETINOPATHY DETECTION"
      ],
      "metadata": {
        "id": "ppDAHFEraB4m"
      }
    },
    {
      "cell_type": "code",
      "execution_count": null,
      "metadata": {
        "colab": {
          "base_uri": "https://localhost:8080/"
        },
        "id": "LDRNoKWhVpyH",
        "outputId": "acfc7468-4898-4949-bafa-3fbca393e1bb"
      },
      "outputs": [
        {
          "output_type": "stream",
          "name": "stdout",
          "text": [
            "mkdir: cannot create directory ‘/root/.keras’: File exists\n",
            "cp: cannot stat '../input/keras-pretrained-models/*notop*': No such file or directory\n",
            "cp: cannot stat '../input/keras-pretrained-models/imagenet_class_index.json': No such file or directory\n"
          ]
        }
      ],
      "source": [
        "# copy the weights and configurations for the pre-trained models\n",
        "!mkdir ~/.keras\n",
        "!mkdir ~/.keras/models\n",
        "!cp ../input/keras-pretrained-models/*notop* ~/.keras/models/\n",
        "!cp ../input/keras-pretrained-models/imagenet_class_index.json ~/.keras/models/"
      ]
    },
    {
      "cell_type": "code",
      "source": [
        "import numpy as np # linear algebra\n",
        "import pandas as pd # data processing, CSV file I/O (e.g. pd.read_csv)\n",
        "import matplotlib.pyplot as plt # showing and rendering figures\n",
        "# io related\n",
        "from skimage.io import imread\n",
        "import os\n",
        "from glob import glob\n",
        "\n",
        "%matplotlib inline "
      ],
      "metadata": {
        "id": "WfnqOW3WWMuC"
      },
      "execution_count": null,
      "outputs": []
    },
    {
      "cell_type": "markdown",
      "source": [
        "#### Data set of 10000 images"
      ],
      "metadata": {
        "id": "Jqv-A5wvaMf3"
      }
    },
    {
      "cell_type": "code",
      "source": [
        "from google.colab import drive\n",
        "drive.mount('/content/drive')"
      ],
      "metadata": {
        "colab": {
          "base_uri": "https://localhost:8080/"
        },
        "id": "V19IGJEiCDdX",
        "outputId": "924d6d29-e341-416d-cf12-08a8c24602f1"
      },
      "execution_count": null,
      "outputs": [
        {
          "output_type": "stream",
          "name": "stdout",
          "text": [
            "Mounted at /content/drive\n"
          ]
        }
      ]
    },
    {
      "cell_type": "code",
      "source": [
        "import os\n",
        "base_image_dir = os.path.join('.', '/content/drive/MyDrive/Sample_data_10000')\n",
        "df = pd.read_csv(os.path.join('/content/drive/MyDrive/trainLabels_cropped.csv'))\n",
        "df['path'] = df['image'].map(lambda x: os.path.join(base_image_dir,'{}.jpeg'.format(x)))\n",
        "df['exists'] = df['path'].map(os.path.exists) #Most of the files do not exist because this is a sample of the original dataset\n",
        "\n",
        "df = df[df['exists']]\n",
        "print(df[df['exists']])\n",
        "df = df.drop(columns=['image','exists'])\n",
        "df = df.sample(frac=1).reset_index(drop=True)#shuffle dataframe\n",
        "df['level'] = df['level'].astype(str)\n",
        "df.head(10)"
      ],
      "metadata": {
        "colab": {
          "base_uri": "https://localhost:8080/",
          "height": 831
        },
        "id": "hYSzzsdZJHFB",
        "outputId": "8ff7c655-b348-4022-a70a-e3d06a1c22ab"
      },
      "execution_count": null,
      "outputs": [
        {
          "output_type": "stream",
          "name": "stdout",
          "text": [
            "       Unnamed: 0  Unnamed: 0.1        image  level  \\\n",
            "0               0             0      10_left      0   \n",
            "1               1             1     10_right      0   \n",
            "2               2             2      13_left      0   \n",
            "3               3             3     13_right      0   \n",
            "4               4             4      15_left      1   \n",
            "...           ...           ...          ...    ...   \n",
            "10183       10183         10190   12838_left      0   \n",
            "10184       10184         10191  12838_right      0   \n",
            "10185       10185         10192   12839_left      2   \n",
            "10186       10186         10193  12839_right      2   \n",
            "10187       10187         10194   12842_left      0   \n",
            "\n",
            "                                                    path  exists  \n",
            "0      /content/drive/MyDrive/Sample_data_10000/10_le...    True  \n",
            "1      /content/drive/MyDrive/Sample_data_10000/10_ri...    True  \n",
            "2      /content/drive/MyDrive/Sample_data_10000/13_le...    True  \n",
            "3      /content/drive/MyDrive/Sample_data_10000/13_ri...    True  \n",
            "4      /content/drive/MyDrive/Sample_data_10000/15_le...    True  \n",
            "...                                                  ...     ...  \n",
            "10183  /content/drive/MyDrive/Sample_data_10000/12838...    True  \n",
            "10184  /content/drive/MyDrive/Sample_data_10000/12838...    True  \n",
            "10185  /content/drive/MyDrive/Sample_data_10000/12839...    True  \n",
            "10186  /content/drive/MyDrive/Sample_data_10000/12839...    True  \n",
            "10187  /content/drive/MyDrive/Sample_data_10000/12842...    True  \n",
            "\n",
            "[10188 rows x 6 columns]\n"
          ]
        },
        {
          "output_type": "execute_result",
          "data": {
            "text/plain": [
              "   Unnamed: 0  Unnamed: 0.1 level  \\\n",
              "0        8369          8375     2   \n",
              "1        5393          5397     0   \n",
              "2        8391          8397     0   \n",
              "3        6285          6289     2   \n",
              "4        3470          3474     0   \n",
              "5        4520          4524     0   \n",
              "6        7426          7430     0   \n",
              "7        4176          4180     0   \n",
              "8        4800          4804     0   \n",
              "9        3614          3618     1   \n",
              "\n",
              "                                                path  \n",
              "0  /content/drive/MyDrive/Sample_data_10000/10501...  \n",
              "1  /content/drive/MyDrive/Sample_data_10000/6796_...  \n",
              "2  /content/drive/MyDrive/Sample_data_10000/10534...  \n",
              "3  /content/drive/MyDrive/Sample_data_10000/7905_...  \n",
              "4  /content/drive/MyDrive/Sample_data_10000/4335_...  \n",
              "5  /content/drive/MyDrive/Sample_data_10000/5700_...  \n",
              "6  /content/drive/MyDrive/Sample_data_10000/9340_...  \n",
              "7  /content/drive/MyDrive/Sample_data_10000/5241_...  \n",
              "8  /content/drive/MyDrive/Sample_data_10000/6024_...  \n",
              "9  /content/drive/MyDrive/Sample_data_10000/4527_...  "
            ],
            "text/html": [
              "\n",
              "  <div id=\"df-43be03b7-538e-4def-aa66-c39a9c6ea9ca\">\n",
              "    <div class=\"colab-df-container\">\n",
              "      <div>\n",
              "<style scoped>\n",
              "    .dataframe tbody tr th:only-of-type {\n",
              "        vertical-align: middle;\n",
              "    }\n",
              "\n",
              "    .dataframe tbody tr th {\n",
              "        vertical-align: top;\n",
              "    }\n",
              "\n",
              "    .dataframe thead th {\n",
              "        text-align: right;\n",
              "    }\n",
              "</style>\n",
              "<table border=\"1\" class=\"dataframe\">\n",
              "  <thead>\n",
              "    <tr style=\"text-align: right;\">\n",
              "      <th></th>\n",
              "      <th>Unnamed: 0</th>\n",
              "      <th>Unnamed: 0.1</th>\n",
              "      <th>level</th>\n",
              "      <th>path</th>\n",
              "    </tr>\n",
              "  </thead>\n",
              "  <tbody>\n",
              "    <tr>\n",
              "      <th>0</th>\n",
              "      <td>8369</td>\n",
              "      <td>8375</td>\n",
              "      <td>2</td>\n",
              "      <td>/content/drive/MyDrive/Sample_data_10000/10501...</td>\n",
              "    </tr>\n",
              "    <tr>\n",
              "      <th>1</th>\n",
              "      <td>5393</td>\n",
              "      <td>5397</td>\n",
              "      <td>0</td>\n",
              "      <td>/content/drive/MyDrive/Sample_data_10000/6796_...</td>\n",
              "    </tr>\n",
              "    <tr>\n",
              "      <th>2</th>\n",
              "      <td>8391</td>\n",
              "      <td>8397</td>\n",
              "      <td>0</td>\n",
              "      <td>/content/drive/MyDrive/Sample_data_10000/10534...</td>\n",
              "    </tr>\n",
              "    <tr>\n",
              "      <th>3</th>\n",
              "      <td>6285</td>\n",
              "      <td>6289</td>\n",
              "      <td>2</td>\n",
              "      <td>/content/drive/MyDrive/Sample_data_10000/7905_...</td>\n",
              "    </tr>\n",
              "    <tr>\n",
              "      <th>4</th>\n",
              "      <td>3470</td>\n",
              "      <td>3474</td>\n",
              "      <td>0</td>\n",
              "      <td>/content/drive/MyDrive/Sample_data_10000/4335_...</td>\n",
              "    </tr>\n",
              "    <tr>\n",
              "      <th>5</th>\n",
              "      <td>4520</td>\n",
              "      <td>4524</td>\n",
              "      <td>0</td>\n",
              "      <td>/content/drive/MyDrive/Sample_data_10000/5700_...</td>\n",
              "    </tr>\n",
              "    <tr>\n",
              "      <th>6</th>\n",
              "      <td>7426</td>\n",
              "      <td>7430</td>\n",
              "      <td>0</td>\n",
              "      <td>/content/drive/MyDrive/Sample_data_10000/9340_...</td>\n",
              "    </tr>\n",
              "    <tr>\n",
              "      <th>7</th>\n",
              "      <td>4176</td>\n",
              "      <td>4180</td>\n",
              "      <td>0</td>\n",
              "      <td>/content/drive/MyDrive/Sample_data_10000/5241_...</td>\n",
              "    </tr>\n",
              "    <tr>\n",
              "      <th>8</th>\n",
              "      <td>4800</td>\n",
              "      <td>4804</td>\n",
              "      <td>0</td>\n",
              "      <td>/content/drive/MyDrive/Sample_data_10000/6024_...</td>\n",
              "    </tr>\n",
              "    <tr>\n",
              "      <th>9</th>\n",
              "      <td>3614</td>\n",
              "      <td>3618</td>\n",
              "      <td>1</td>\n",
              "      <td>/content/drive/MyDrive/Sample_data_10000/4527_...</td>\n",
              "    </tr>\n",
              "  </tbody>\n",
              "</table>\n",
              "</div>\n",
              "      <button class=\"colab-df-convert\" onclick=\"convertToInteractive('df-43be03b7-538e-4def-aa66-c39a9c6ea9ca')\"\n",
              "              title=\"Convert this dataframe to an interactive table.\"\n",
              "              style=\"display:none;\">\n",
              "        \n",
              "  <svg xmlns=\"http://www.w3.org/2000/svg\" height=\"24px\"viewBox=\"0 0 24 24\"\n",
              "       width=\"24px\">\n",
              "    <path d=\"M0 0h24v24H0V0z\" fill=\"none\"/>\n",
              "    <path d=\"M18.56 5.44l.94 2.06.94-2.06 2.06-.94-2.06-.94-.94-2.06-.94 2.06-2.06.94zm-11 1L8.5 8.5l.94-2.06 2.06-.94-2.06-.94L8.5 2.5l-.94 2.06-2.06.94zm10 10l.94 2.06.94-2.06 2.06-.94-2.06-.94-.94-2.06-.94 2.06-2.06.94z\"/><path d=\"M17.41 7.96l-1.37-1.37c-.4-.4-.92-.59-1.43-.59-.52 0-1.04.2-1.43.59L10.3 9.45l-7.72 7.72c-.78.78-.78 2.05 0 2.83L4 21.41c.39.39.9.59 1.41.59.51 0 1.02-.2 1.41-.59l7.78-7.78 2.81-2.81c.8-.78.8-2.07 0-2.86zM5.41 20L4 18.59l7.72-7.72 1.47 1.35L5.41 20z\"/>\n",
              "  </svg>\n",
              "      </button>\n",
              "      \n",
              "  <style>\n",
              "    .colab-df-container {\n",
              "      display:flex;\n",
              "      flex-wrap:wrap;\n",
              "      gap: 12px;\n",
              "    }\n",
              "\n",
              "    .colab-df-convert {\n",
              "      background-color: #E8F0FE;\n",
              "      border: none;\n",
              "      border-radius: 50%;\n",
              "      cursor: pointer;\n",
              "      display: none;\n",
              "      fill: #1967D2;\n",
              "      height: 32px;\n",
              "      padding: 0 0 0 0;\n",
              "      width: 32px;\n",
              "    }\n",
              "\n",
              "    .colab-df-convert:hover {\n",
              "      background-color: #E2EBFA;\n",
              "      box-shadow: 0px 1px 2px rgba(60, 64, 67, 0.3), 0px 1px 3px 1px rgba(60, 64, 67, 0.15);\n",
              "      fill: #174EA6;\n",
              "    }\n",
              "\n",
              "    [theme=dark] .colab-df-convert {\n",
              "      background-color: #3B4455;\n",
              "      fill: #D2E3FC;\n",
              "    }\n",
              "\n",
              "    [theme=dark] .colab-df-convert:hover {\n",
              "      background-color: #434B5C;\n",
              "      box-shadow: 0px 1px 3px 1px rgba(0, 0, 0, 0.15);\n",
              "      filter: drop-shadow(0px 1px 2px rgba(0, 0, 0, 0.3));\n",
              "      fill: #FFFFFF;\n",
              "    }\n",
              "  </style>\n",
              "\n",
              "      <script>\n",
              "        const buttonEl =\n",
              "          document.querySelector('#df-43be03b7-538e-4def-aa66-c39a9c6ea9ca button.colab-df-convert');\n",
              "        buttonEl.style.display =\n",
              "          google.colab.kernel.accessAllowed ? 'block' : 'none';\n",
              "\n",
              "        async function convertToInteractive(key) {\n",
              "          const element = document.querySelector('#df-43be03b7-538e-4def-aa66-c39a9c6ea9ca');\n",
              "          const dataTable =\n",
              "            await google.colab.kernel.invokeFunction('convertToInteractive',\n",
              "                                                     [key], {});\n",
              "          if (!dataTable) return;\n",
              "\n",
              "          const docLinkHtml = 'Like what you see? Visit the ' +\n",
              "            '<a target=\"_blank\" href=https://colab.research.google.com/notebooks/data_table.ipynb>data table notebook</a>'\n",
              "            + ' to learn more about interactive tables.';\n",
              "          element.innerHTML = '';\n",
              "          dataTable['output_type'] = 'display_data';\n",
              "          await google.colab.output.renderOutput(dataTable, element);\n",
              "          const docLink = document.createElement('div');\n",
              "          docLink.innerHTML = docLinkHtml;\n",
              "          element.appendChild(docLink);\n",
              "        }\n",
              "      </script>\n",
              "    </div>\n",
              "  </div>\n",
              "  "
            ]
          },
          "metadata": {},
          "execution_count": 6
        }
      ]
    },
    {
      "cell_type": "code",
      "source": [
        "df['level'].value_counts()"
      ],
      "metadata": {
        "colab": {
          "base_uri": "https://localhost:8080/"
        },
        "id": "VQHLVO53gYTr",
        "outputId": "525a4189-bc85-4e9a-e5cc-faa1658e11d3"
      },
      "execution_count": null,
      "outputs": [
        {
          "output_type": "execute_result",
          "data": {
            "text/plain": [
              "0    7396\n",
              "2    6173\n",
              "1    6073\n",
              "3    5941\n",
              "4    5935\n",
              "Name: level, dtype: int64"
            ]
          },
          "metadata": {},
          "execution_count": 15
        }
      ]
    },
    {
      "cell_type": "markdown",
      "source": [
        "# Preprocessing"
      ],
      "metadata": {
        "id": "HE0YbcnV0LuV"
      }
    },
    {
      "cell_type": "markdown",
      "source": [
        "## Distribution of Eye and Severity"
      ],
      "metadata": {
        "id": "byD8hcwtWe8i"
      }
    },
    {
      "cell_type": "code",
      "source": [
        "df['level'].hist(figsize = (10, 5))"
      ],
      "metadata": {
        "colab": {
          "base_uri": "https://localhost:8080/",
          "height": 337
        },
        "id": "-t8PCFJCJrxh",
        "outputId": "8b867f06-58ca-4998-bfda-9936c6f48381"
      },
      "execution_count": null,
      "outputs": [
        {
          "output_type": "execute_result",
          "data": {
            "text/plain": [
              "<matplotlib.axes._subplots.AxesSubplot at 0x7f370dc6e710>"
            ]
          },
          "metadata": {},
          "execution_count": 7
        },
        {
          "output_type": "display_data",
          "data": {
            "text/plain": [
              "<Figure size 720x360 with 1 Axes>"
            ],
            "image/png": "[encoded data removed]"
          },
          "metadata": {
            "needs_background": "light"
          }
        }
      ]
    },
    {
      "cell_type": "code",
      "source": [
        "def balance_data(class_size,df):\n",
        "    train_df = df.groupby(['level']).apply(lambda x: x.sample(class_size, replace = True)).reset_index(drop = True)\n",
        "    train_df = train_df.sample(frac=1).reset_index(drop=True)\n",
        "    print('New Data Size:', train_df.shape[0], 'Old Size:', df.shape[0])\n",
        "    train_df['level'].hist(figsize = (10, 5))\n",
        "    return train_df"
      ],
      "metadata": {
        "id": "Hqe6GLAEJr0d"
      },
      "execution_count": null,
      "outputs": []
    },
    {
      "cell_type": "markdown",
      "source": [
        "## Split Data into Training and Validation"
      ],
      "metadata": {
        "id": "N1VnI3pQWn8D"
      }
    },
    {
      "cell_type": "code",
      "source": [
        "from sklearn.model_selection import train_test_split\n",
        "train_df, val_df = train_test_split(df,test_size=0.2) # Here we will perform an 80%/20% split of the dataset, with stratification to keep similar distribution in validation set\n",
        "train_df['level'].hist(figsize = (10, 5))\n",
        "len(val_df)"
      ],
      "metadata": {
        "colab": {
          "base_uri": "https://localhost:8080/",
          "height": 337
        },
        "id": "z5BCbyhnKOkg",
        "outputId": "3063f9f2-46e5-48f6-c0a2-4247bbe341c1"
      },
      "execution_count": null,
      "outputs": [
        {
          "output_type": "execute_result",
          "data": {
            "text/plain": [
              "2038"
            ]
          },
          "metadata": {},
          "execution_count": 9
        },
        {
          "output_type": "display_data",
          "data": {
            "text/plain": [
              "<Figure size 720x360 with 1 Axes>"
            ],
            "image/png": "[encoded data removed]"
          },
          "metadata": {
            "needs_background": "light"
          }
        }
      ]
    },
    {
      "cell_type": "markdown",
      "source": [
        "## Balancing the distribution in the Training set"
      ],
      "metadata": {
        "id": "_FUZors-Ws_d"
      }
    },
    {
      "cell_type": "code",
      "source": [
        "train_df = balance_data(train_df.pivot_table(index='level', aggfunc=len).max().max(),train_df) # I will oversample such that all classes have the same number of images as the maximum\n",
        "train_df['level'].hist(figsize = (10, 5))"
      ],
      "metadata": {
        "colab": {
          "base_uri": "https://localhost:8080/",
          "height": 355
        },
        "id": "s2TEjDZeJr32",
        "outputId": "47c40a28-b70b-44ba-d0fb-86feeed47247"
      },
      "execution_count": null,
      "outputs": [
        {
          "output_type": "stream",
          "name": "stdout",
          "text": [
            "New Data Size: 29480 Old Size: 8150\n"
          ]
        },
        {
          "output_type": "execute_result",
          "data": {
            "text/plain": [
              "<matplotlib.axes._subplots.AxesSubplot at 0x7f370db07550>"
            ]
          },
          "metadata": {},
          "execution_count": 10
        },
        {
          "output_type": "display_data",
          "data": {
            "text/plain": [
              "<Figure size 720x360 with 1 Axes>"
            ],
            "image/png": "[encoded data removed]"
          },
          "metadata": {
            "needs_background": "light"
          }
        }
      ]
    },
    {
      "cell_type": "code",
      "source": [
        "df = pd.concat([train_df,val_df]) #beginning of this dataframe is the oversampled training set, end is the validation set\n",
        "len(df)"
      ],
      "metadata": {
        "colab": {
          "base_uri": "https://localhost:8080/"
        },
        "id": "HZ8G1Wt6Jr67",
        "outputId": "94c8f468-4289-4b9b-e054-f25868a77269"
      },
      "execution_count": null,
      "outputs": [
        {
          "output_type": "execute_result",
          "data": {
            "text/plain": [
              "31518"
            ]
          },
          "metadata": {},
          "execution_count": 11
        }
      ]
    },
    {
      "cell_type": "code",
      "source": [
        "from keras.preprocessing.image import ImageDataGenerator"
      ],
      "metadata": {
        "id": "Ddnmb0FNLXYB"
      },
      "execution_count": null,
      "outputs": []
    },
    {
      "cell_type": "code",
      "source": [
        "train_datagen = ImageDataGenerator(\n",
        "    rescale=1.0/255,\n",
        "    horizontal_flip = True,\n",
        "    zoom_range=0.2\n",
        ")\n",
        "\n",
        "test_datagen = ImageDataGenerator(\n",
        "    rescale=1.0/255,\n",
        "    validation_split = 0.2\n",
        ")"
      ],
      "metadata": {
        "id": "fjnL2uH3Jr9n"
      },
      "execution_count": null,
      "outputs": []
    },
    {
      "cell_type": "code",
      "source": [
        "x_train = train_datagen.flow_from_dataframe(\n",
        "        train_df,\n",
        "        directory=\".\",\n",
        "        x_col=\"path\",\n",
        "        y_col=\"level\",\n",
        "        target_size=(256, 256),\n",
        "        batch_size=32,\n",
        "        class_mode='categorical')\n",
        "x_test = test_datagen.flow_from_dataframe(\n",
        "        val_df,\n",
        "        x_col=\"path\",\n",
        "        y_col=\"level\",\n",
        "        directory=\".\",\n",
        "        target_size=(256, 256),\n",
        "        batch_size=32,\n",
        "        class_mode='categorical')"
      ],
      "metadata": {
        "colab": {
          "base_uri": "https://localhost:8080/"
        },
        "id": "ZhuVDAOBJsCQ",
        "outputId": "a281f1d6-4ab0-49d2-fbd3-2bfba16b682b"
      },
      "execution_count": null,
      "outputs": [
        {
          "output_type": "stream",
          "name": "stdout",
          "text": [
            "Found 29620 validated image filenames belonging to 5 classes.\n",
            "Found 2038 validated image filenames belonging to 5 classes.\n"
          ]
        }
      ]
    },
    {
      "cell_type": "code",
      "source": [
        "import itertools\n",
        "def plot_confusion_matrix(cm, classes,\n",
        "                          normalize=False,\n",
        "                          title='Confusion matrix',\n",
        "                          cmap=plt.cm.Blues):\n",
        "    \"\"\"\n",
        "    This function prints and plots the confusion matrix.\n",
        "    Normalization can be applied by setting `normalize=True`.\n",
        "    \"\"\"\n",
        "    plt.figure(figsize = (6,6))\n",
        "    plt.imshow(cm, interpolation='nearest', cmap=cmap)\n",
        "    plt.title(title)\n",
        "    plt.colorbar()\n",
        "    tick_marks = np.arange(len(classes))\n",
        "    plt.xticks(tick_marks, classes, rotation=90)\n",
        "    plt.yticks(tick_marks, classes)\n",
        "    if normalize:\n",
        "        cm = cm.astype('float') / cm.sum(axis=1)[:, np.newaxis]\n",
        "\n",
        "    thresh = cm.max() / 2.\n",
        "    cm = np.round(cm,2)\n",
        "    for i, j in itertools.product(range(cm.shape[0]), range(cm.shape[1])):\n",
        "        plt.text(j, i, cm[i, j],\n",
        "                 horizontalalignment=\"center\",\n",
        "                 color=\"white\" if cm[i, j] > thresh else \"black\")\n",
        "    plt.tight_layout()\n",
        "    plt.ylabel('True label')\n",
        "    plt.xlabel('Predicted label')\n",
        "    plt.show()"
      ],
      "metadata": {
        "id": "-K9RrRPJJsEo"
      },
      "execution_count": null,
      "outputs": []
    },
    {
      "cell_type": "code",
      "source": [
        "train_datagen = ImageDataGenerator(\n",
        "        rescale=1./255,\n",
        "        shear_range=0.2,\n",
        "        zoom_range=0.2,\n",
        "        horizontal_flip=True)\n",
        "test_datagen = ImageDataGenerator(rescale=1./255)"
      ],
      "metadata": {
        "id": "MRi8dgOwJsGy"
      },
      "execution_count": null,
      "outputs": []
    },
    {
      "cell_type": "code",
      "source": [
        "t_x, t_y = next(x_train)"
      ],
      "metadata": {
        "id": "61W8jovyJsJQ"
      },
      "execution_count": null,
      "outputs": []
    },
    {
      "cell_type": "code",
      "source": [
        "from keras.applications.inception_resnet_v2 import InceptionResNetV2\n",
        "from keras.layers import GlobalAveragePooling2D, Dense, Dropout, Flatten, Input, Conv2D, multiply, LocallyConnected2D, Lambda\n",
        "from keras.models import Model\n",
        "from keras.layers import BatchNormalization\n",
        "from keras import Sequential \n",
        "from keras.layers import  Activation"
      ],
      "metadata": {
        "id": "4xVqW4mYAZBT"
      },
      "execution_count": null,
      "outputs": []
    },
    {
      "cell_type": "code",
      "source": [],
      "metadata": {
        "id": "PHQaXe27HKdL"
      },
      "execution_count": null,
      "outputs": []
    },
    {
      "cell_type": "code",
      "source": [],
      "metadata": {
        "id": "M2bQYHD_HKgB"
      },
      "execution_count": null,
      "outputs": []
    },
    {
      "cell_type": "markdown",
      "source": [
        "# InceptionResNet V2\n",
        "\n",
        "\n"
      ],
      "metadata": {
        "id": "PYeoYUtnHFTA"
      }
    },
    {
      "cell_type": "code",
      "source": [
        "# Initializing a Sequential model:\n",
        "\n",
        "\n",
        "model = Sequential()\n",
        "model.add(InceptionResNetV2(input_shape =  t_x.shape[1:], include_top = False, weights = 'imagenet'))\n",
        "model.trainable = False\n",
        "model.add(Flatten())\n",
        "model.add(BatchNormalization())\n",
        "model.add(Dense(64,kernel_initializer='he_uniform'))\n",
        "model.add(BatchNormalization())\n",
        "model.add(Activation('relu'))\n",
        "model.add(Dropout(0.5))\n",
        "model.add(Dense(128,kernel_initializer='he_uniform'))\n",
        "model.add(BatchNormalization())\n",
        "model.add(Activation('relu'))\n",
        "model.add(Dropout(0.5))\n",
        "model.add(Dense(256,kernel_initializer='he_uniform'))\n",
        "model.add(BatchNormalization())\n",
        "model.add(Activation('relu'))\n",
        "model.add(Dropout(0.5))\n",
        "model.add(Dense(64,kernel_initializer='he_uniform'))\n",
        "model.add(BatchNormalization())\n",
        "model.add(Activation('relu'))\n",
        "model.add(Dropout(0.5))\n",
        "model.add(Dense(32,kernel_initializer='he_uniform'))\n",
        "model.add(BatchNormalization())\n",
        "model.add(Activation('relu'))\n",
        "model.add(Dropout(0.5))\n",
        "# Creating an output layer\n",
        "model.add(Dense(units= 5, activation='softmax'))\n",
        "\n",
        "from keras.metrics import top_k_categorical_accuracy\n",
        "\n",
        "def top_2_accuracy(in_gt, in_pred):\n",
        "    return top_k_categorical_accuracy(in_gt, in_pred, k=2)\n",
        "\n",
        "model.compile(optimizer = 'adam', loss = 'categorical_crossentropy', metrics = ['categorical_accuracy', top_2_accuracy])\n",
        "model.summary()"
      ],
      "metadata": {
        "colab": {
          "base_uri": "https://localhost:8080/"
        },
        "id": "m_mMPIzt-xQa",
        "outputId": "b6f66250-f267-4471-a95e-222f67d0b059"
      },
      "execution_count": null,
      "outputs": [
        {
          "output_type": "stream",
          "name": "stdout",
          "text": [
            "Downloading data from https://storage.googleapis.com/tensorflow/keras-applications/inception_resnet_v2/inception_resnet_v2_weights_tf_dim_ordering_tf_kernels_notop.h5\n",
            "219055592/219055592 [==============================] - 10s 0us/step\n",
            "Model: \"sequential\"\n",
            "_________________________________________________________________\n",
            " Layer (type)                Output Shape              Param #   \n",
            "=================================================================\n",
            " inception_resnet_v2 (Functi  (None, 6, 6, 1536)       54336736  \n",
            " onal)                                                           \n",
            "                                                                 \n",
            " flatten (Flatten)           (None, 55296)             0         \n",
            "                                                                 \n",
            " batch_normalization_203 (Ba  (None, 55296)            221184    \n",
            " tchNormalization)                                               \n",
            "                                                                 \n",
            " dense (Dense)               (None, 64)                3539008   \n",
            "                                                                 \n",
            " batch_normalization_204 (Ba  (None, 64)               256       \n",
            " tchNormalization)                                               \n",
            "                                                                 \n",
            " activation_203 (Activation)  (None, 64)               0         \n",
            "                                                                 \n",
            " dropout (Dropout)           (None, 64)                0         \n",
            "                                                                 \n",
            " dense_1 (Dense)             (None, 128)               8320      \n",
            "                                                                 \n",
            " batch_normalization_205 (Ba  (None, 128)              512       \n",
            " tchNormalization)                                               \n",
            "                                                                 \n",
            " activation_204 (Activation)  (None, 128)              0         \n",
            "                                                                 \n",
            " dropout_1 (Dropout)         (None, 128)               0         \n",
            "                                                                 \n",
            " dense_2 (Dense)             (None, 256)               33024     \n",
            "                                                                 \n",
            " batch_normalization_206 (Ba  (None, 256)              1024      \n",
            " tchNormalization)                                               \n",
            "                                                                 \n",
            " activation_205 (Activation)  (None, 256)              0         \n",
            "                                                                 \n",
            " dropout_2 (Dropout)         (None, 256)               0         \n",
            "                                                                 \n",
            " dense_3 (Dense)             (None, 64)                16448     \n",
            "                                                                 \n",
            " batch_normalization_207 (Ba  (None, 64)               256       \n",
            " tchNormalization)                                               \n",
            "                                                                 \n",
            " activation_206 (Activation)  (None, 64)               0         \n",
            "                                                                 \n",
            " dropout_3 (Dropout)         (None, 64)                0         \n",
            "                                                                 \n",
            " dense_4 (Dense)             (None, 32)                2080      \n",
            "                                                                 \n",
            " batch_normalization_208 (Ba  (None, 32)               128       \n",
            " tchNormalization)                                               \n",
            "                                                                 \n",
            " activation_207 (Activation)  (None, 32)               0         \n",
            "                                                                 \n",
            " dropout_4 (Dropout)         (None, 32)                0         \n",
            "                                                                 \n",
            " dense_5 (Dense)             (None, 5)                 165       \n",
            "                                                                 \n",
            "=================================================================\n",
            "Total params: 58,159,141\n",
            "Trainable params: 0\n",
            "Non-trainable params: 58,159,141\n",
            "_________________________________________________________________\n"
          ]
        }
      ]
    },
    {
      "cell_type": "code",
      "source": [
        "import tensorflow as tf\n",
        "from tensorflow.keras.callbacks import EarlyStopping\n",
        "from tensorflow.keras.callbacks import ModelCheckpoint\n",
        "from tensorflow.keras.callbacks import ReduceLROnPlateau"
      ],
      "metadata": {
        "id": "e0afN6qqFcR7"
      },
      "execution_count": null,
      "outputs": []
    },
    {
      "cell_type": "code",
      "source": [
        "filepath = \"dr-detector.hdf5\"\n",
        "checkpoint = ModelCheckpoint(filepath,\n",
        "                             monitor=\"val_top2_accuracy\",\n",
        "                             verbose=1,\n",
        "                             save_best_only=True,\n",
        "                             mode=\"max\")\n",
        "\n",
        "earlystop = EarlyStopping(monitor='val_categorical_accuracy',\n",
        "                          verbose=1, \n",
        "                          min_delta=0, \n",
        "                          patience=15, \n",
        "                          restore_best_weights=True)\n",
        "\n",
        "reduce_lr = ReduceLROnPlateau(monitor='val_loss', \n",
        "                              verbose=1,\n",
        "                              factor=0.2, \n",
        "                              patience=6, \n",
        "                              min_delta=0.0001,\n",
        "                              cooldown=0,\n",
        "                              min_lr=0.001)\n",
        "\n",
        "\n",
        "callbacks = [checkpoint, earlystop, reduce_lr]"
      ],
      "metadata": {
        "id": "t-3E7EUQLA4Q"
      },
      "execution_count": null,
      "outputs": []
    },
    {
      "cell_type": "code",
      "source": [
        "history = model.fit(\n",
        "        x_train,\n",
        "        steps_per_epoch=x_train.samples // 64,\n",
        "        epochs=5,\n",
        "        validation_data=x_test,\n",
        "        validation_steps=x_test.samples // 64,\n",
        "        callbacks=callbacks)\n",
        "model.save_weights(\"dr_messidor.h5\")"
      ],
      "metadata": {
        "id": "03D3T_v0LA7N",
        "colab": {
          "base_uri": "https://localhost:8080/"
        },
        "outputId": "68bea8b2-40bd-4667-f6b1-f7c3b43ff742"
      },
      "execution_count": null,
      "outputs": [
        {
          "output_type": "stream",
          "name": "stdout",
          "text": [
            "Epoch 1/5\n",
            "463/463 [==============================] - ETA: 0s - loss: 2.1608 - categorical_accuracy: 0.1998 - top_2_accuracy: 0.3969"
          ]
        },
        {
          "output_type": "stream",
          "name": "stderr",
          "text": [
            "WARNING:tensorflow:Can save best model only with val_top2_accuracy available, skipping.\n"
          ]
        },
        {
          "output_type": "stream",
          "name": "stdout",
          "text": [
            "\b\b\b\b\b\b\b\b\b\b\b\b\b\b\b\b\b\b\b\b\b\b\b\b\b\b\b\b\b\b\b\b\b\b\b\b\b\b\b\b\b\b\b\b\b\b\b\b\b\b\b\b\b\b\b\b\b\b\b\b\b\b\b\b\b\b\b\b\b\b\b\b\b\b\b\b\b\b\b\b\b\b\b\b\b\b\b\b\b\b\b\b\b\b\b\b\b\b\b\b\b\b\b\b\b\b\b\b\b\b\b\b\b\b\b\b\b\b\b\b\b\r463/463 [==============================] - 3952s 8s/step - loss: 2.1608 - categorical_accuracy: 0.1998 - top_2_accuracy: 0.3969 - val_loss: 1.5997 - val_categorical_accuracy: 0.0302 - val_top_2_accuracy: 0.7056 - lr: 0.0010\n",
            "Epoch 2/5\n",
            "463/463 [==============================] - ETA: 0s - loss: 2.1669 - categorical_accuracy: 0.2007 - top_2_accuracy: 0.3963"
          ]
        },
        {
          "output_type": "stream",
          "name": "stderr",
          "text": [
            "WARNING:tensorflow:Can save best model only with val_top2_accuracy available, skipping.\n"
          ]
        },
        {
          "output_type": "stream",
          "name": "stdout",
          "text": [
            "\b\b\b\b\b\b\b\b\b\b\b\b\b\b\b\b\b\b\b\b\b\b\b\b\b\b\b\b\b\b\b\b\b\b\b\b\b\b\b\b\b\b\b\b\b\b\b\b\b\b\b\b\b\b\b\b\b\b\b\b\b\b\b\b\b\b\b\b\b\b\b\b\b\b\b\b\b\b\b\b\b\b\b\b\b\b\b\b\b\b\b\b\b\b\b\b\b\b\b\b\b\b\b\b\b\b\b\b\b\b\b\b\b\b\b\b\b\b\b\b\b\r463/463 [==============================] - 1407s 3s/step - loss: 2.1669 - categorical_accuracy: 0.2007 - top_2_accuracy: 0.3963 - val_loss: 1.6089 - val_categorical_accuracy: 0.0333 - val_top_2_accuracy: 0.6804 - lr: 0.0010\n",
            "Epoch 3/5\n",
            "463/463 [==============================] - ETA: 0s - loss: 2.1517 - categorical_accuracy: 0.1964 - top_2_accuracy: 0.3997"
          ]
        },
        {
          "output_type": "stream",
          "name": "stderr",
          "text": [
            "WARNING:tensorflow:Can save best model only with val_top2_accuracy available, skipping.\n"
          ]
        },
        {
          "output_type": "stream",
          "name": "stdout",
          "text": [
            "\b\b\b\b\b\b\b\b\b\b\b\b\b\b\b\b\b\b\b\b\b\b\b\b\b\b\b\b\b\b\b\b\b\b\b\b\b\b\b\b\b\b\b\b\b\b\b\b\b\b\b\b\b\b\b\b\b\b\b\b\b\b\b\b\b\b\b\b\b\b\b\b\b\b\b\b\b\b\b\b\b\b\b\b\b\b\b\b\b\b\b\b\b\b\b\b\b\b\b\b\b\b\b\b\b\b\b\b\b\b\b\b\b\b\b\b\b\b\b\b\b\r463/463 [==============================] - 882s 2s/step - loss: 2.1517 - categorical_accuracy: 0.1964 - top_2_accuracy: 0.3997 - val_loss: 1.5969 - val_categorical_accuracy: 0.0232 - val_top_2_accuracy: 0.6895 - lr: 0.0010\n",
            "Epoch 4/5\n",
            "463/463 [==============================] - ETA: 0s - loss: 2.1524 - categorical_accuracy: 0.2003 - top_2_accuracy: 0.3952"
          ]
        },
        {
          "output_type": "stream",
          "name": "stderr",
          "text": [
            "WARNING:tensorflow:Can save best model only with val_top2_accuracy available, skipping.\n"
          ]
        },
        {
          "output_type": "stream",
          "name": "stdout",
          "text": [
            "\b\b\b\b\b\b\b\b\b\b\b\b\b\b\b\b\b\b\b\b\b\b\b\b\b\b\b\b\b\b\b\b\b\b\b\b\b\b\b\b\b\b\b\b\b\b\b\b\b\b\b\b\b\b\b\b\b\b\b\b\b\b\b\b\b\b\b\b\b\b\b\b\b\b\b\b\b\b\b\b\b\b\b\b\b\b\b\b\b\b\b\b\b\b\b\b\b\b\b\b\b\b\b\b\b\b\b\b\b\b\b\b\b\b\b\b\b\b\b\b\b\r463/463 [==============================] - 640s 1s/step - loss: 2.1524 - categorical_accuracy: 0.2003 - top_2_accuracy: 0.3952 - val_loss: 1.6165 - val_categorical_accuracy: 0.0312 - val_top_2_accuracy: 0.6573 - lr: 0.0010\n",
            "Epoch 5/5\n",
            "463/463 [==============================] - ETA: 0s - loss: 2.1503 - categorical_accuracy: 0.1969 - top_2_accuracy: 0.4033"
          ]
        },
        {
          "output_type": "stream",
          "name": "stderr",
          "text": [
            "WARNING:tensorflow:Can save best model only with val_top2_accuracy available, skipping.\n"
          ]
        },
        {
          "output_type": "stream",
          "name": "stdout",
          "text": [
            "\b\b\b\b\b\b\b\b\b\b\b\b\b\b\b\b\b\b\b\b\b\b\b\b\b\b\b\b\b\b\b\b\b\b\b\b\b\b\b\b\b\b\b\b\b\b\b\b\b\b\b\b\b\b\b\b\b\b\b\b\b\b\b\b\b\b\b\b\b\b\b\b\b\b\b\b\b\b\b\b\b\b\b\b\b\b\b\b\b\b\b\b\b\b\b\b\b\b\b\b\b\b\b\b\b\b\b\b\b\b\b\b\b\b\b\b\b\b\b\b\b\r463/463 [==============================] - 534s 1s/step - loss: 2.1503 - categorical_accuracy: 0.1969 - top_2_accuracy: 0.4033 - val_loss: 1.6017 - val_categorical_accuracy: 0.0252 - val_top_2_accuracy: 0.6784 - lr: 0.0010\n"
          ]
        }
      ]
    },
    {
      "cell_type": "code",
      "source": [
        "train_score = model.evaluate(x_train)\n",
        "test_score = model.evaluate(x_test)"
      ],
      "metadata": {
        "id": "x8Bkh5ScLA9a",
        "colab": {
          "base_uri": "https://localhost:8080/"
        },
        "outputId": "79984190-4fd2-4966-dd46-ab88ab0a299d"
      },
      "execution_count": null,
      "outputs": [
        {
          "output_type": "stream",
          "name": "stdout",
          "text": [
            "928/928 [==============================] - 928s 1000ms/step - loss: 1.6690 - categorical_accuracy: 0.1962 - top_2_accuracy: 0.4007\n",
            "64/64 [==============================] - 73s 1s/step - loss: 1.6018 - categorical_accuracy: 0.0319 - top_2_accuracy: 0.6869\n"
          ]
        }
      ]
    },
    {
      "cell_type": "code",
      "source": [
        "print(\"Final training categorical accuracy = {:.2f} , Final validation categorical accuracy = {:.2f}\".format(train_score[1]*100, test_score[1]*100))\n",
        "print(\"Final training Top 2 accuracy = {:.2f} , Final validation Top 2 accuracy = {:.2f}\".format(train_score[2]*100, test_score[2]*100))\n",
        "print(\"Final training loss = {:.2f} , Final validation loss = {:.2f}\".format(train_score[0], test_score[0]))"
      ],
      "metadata": {
        "id": "g5nPZmx0jPO3",
        "colab": {
          "base_uri": "https://localhost:8080/"
        },
        "outputId": "88908651-3e7b-442e-d753-704d7c9f9137"
      },
      "execution_count": null,
      "outputs": [
        {
          "output_type": "stream",
          "name": "stdout",
          "text": [
            "Final training categorical accuracy = 19.62 , Final validation categorical accuracy = 3.19\n",
            "Final training Top 2 accuracy = 40.07 , Final validation Top 2 accuracy = 68.69\n",
            "Final training loss = 1.67 , Final validation loss = 1.60\n"
          ]
        }
      ]
    },
    {
      "cell_type": "code",
      "source": [
        "history.history"
      ],
      "metadata": {
        "id": "o-KKx0y6LA_p",
        "colab": {
          "base_uri": "https://localhost:8080/"
        },
        "outputId": "6396ab86-04cc-4f52-8354-482d84315b16"
      },
      "execution_count": null,
      "outputs": [
        {
          "output_type": "execute_result",
          "data": {
            "text/plain": [
              "{'loss': [2.1608269214630127,\n",
              "  2.166865587234497,\n",
              "  2.1517422199249268,\n",
              "  2.1524479389190674,\n",
              "  2.150306224822998],\n",
              " 'categorical_accuracy': [0.1997973620891571,\n",
              "  0.20067544281482697,\n",
              "  0.19640928506851196,\n",
              "  0.20025648176670074,\n",
              "  0.1968817561864853],\n",
              " 'top_2_accuracy': [0.3968929350376129,\n",
              "  0.3962850272655487,\n",
              "  0.3997030258178711,\n",
              "  0.395180881023407,\n",
              "  0.4033477306365967],\n",
              " 'val_loss': [1.5997220277786255,\n",
              "  1.608885645866394,\n",
              "  1.5969200134277344,\n",
              "  1.6164957284927368,\n",
              "  1.6017173528671265],\n",
              " 'val_categorical_accuracy': [0.030241934582591057,\n",
              "  0.033266130834817886,\n",
              "  0.02318548411130905,\n",
              "  0.03125,\n",
              "  0.02520161308348179],\n",
              " 'val_top_2_accuracy': [0.7056451439857483,\n",
              "  0.680443525314331,\n",
              "  0.6895161271095276,\n",
              "  0.6572580933570862,\n",
              "  0.6784273982048035],\n",
              " 'lr': [0.001, 0.001, 0.001, 0.001, 0.001]}"
            ]
          },
          "metadata": {},
          "execution_count": 28
        }
      ]
    },
    {
      "cell_type": "code",
      "source": [
        "plt.figure(figsize=(14,5))\n",
        "plt.subplot(1,2,2)\n",
        "plt.plot(history.history['categorical_accuracy'])\n",
        "plt.plot(history.history['val_categorical_accuracy'])\n",
        "plt.title('Model Accuracy')\n",
        "plt.xlabel('Epochs')\n",
        "plt.ylabel('Accuracy')\n",
        "plt.legend(['train', 'test'], loc='upper left')\n",
        "\n",
        "plt.subplot(1,2,1)\n",
        "plt.plot(history.history['loss'])\n",
        "plt.plot(history.history['val_loss'])\n",
        "plt.title('Model Loss')\n",
        "plt.xlabel('Epochs')\n",
        "plt.ylabel('Loss')\n",
        "plt.legend(['train', 'test'], loc='upper left')\n",
        "plt.show()"
      ],
      "metadata": {
        "id": "hJ2jzC8WLBB2",
        "colab": {
          "base_uri": "https://localhost:8080/",
          "height": 350
        },
        "outputId": "e393ee10-61a3-4fac-daca-6eb7f780766d"
      },
      "execution_count": null,
      "outputs": [
        {
          "output_type": "display_data",
          "data": {
            "text/plain": [
              "<Figure size 1008x360 with 2 Axes>"
            ],
            "image/png": "[encoded data removed]"
          },
          "metadata": {
            "needs_background": "light"
          }
        }
      ]
    },
    {
      "cell_type": "code",
      "source": [
        "import seaborn as sb\n",
        "\n",
        "sb.set_style(\"darkgrid\")\n",
        "\n",
        "Categorical_Acuracy = history.history['categorical_accuracy']\n",
        "Top_2_Accuracy = history.history['top_2_accuracy']\n",
        "Val_Categorical_Accuracy = history.history['val_categorical_accuracy']\n",
        "\n",
        "Loss = history.history['loss']\n",
        "Val_Loss = history.history['val_loss']\n",
        "\n",
        "Epochs = range(1, len(Categorical_Acuracy) + 1)\n",
        "\n",
        "#Train and validation accuracy\n",
        "plt.plot(Epochs, Categorical_Acuracy, 'b', label='Training accuracy')\n",
        "plt.plot(Epochs, Top_2_Accuracy, 'g', label='Top 2 accuracy')\n",
        "plt.plot(Epochs, Val_Categorical_Accuracy, 'r', label='Validation accuracy')\n",
        "plt.xlabel('# of Epochs')\n",
        "plt.ylabel('Accuracy')\n",
        "plt.title('Accuracy Vs Epochs')\n",
        "plt.legend()\n",
        "\n",
        "plt.figure()\n",
        "\n",
        "plt.show()\n",
        "\n",
        "\n",
        "\n",
        "print(\"\\n\\n\")\n",
        "\n",
        "\n",
        "\n",
        "#Train and validation loss\n",
        "\n",
        "\n",
        "\n",
        "plt.plot(Epochs, Loss, 'b', label='Training loss')\n",
        "\n",
        "plt.plot(Epochs, Val_Loss, 'r', label='Validation loss')\n",
        "\n",
        "plt.xlabel('# of Epochs')\n",
        "\n",
        "plt.ylabel('Loss')\n",
        "\n",
        "plt.title('Loss Vs Epochs')\n",
        "\n",
        "plt.legend()\n",
        "\n",
        "\n",
        "\n",
        "plt.show()"
      ],
      "metadata": {
        "id": "6hFtOkEX0657",
        "colab": {
          "base_uri": "https://localhost:8080/",
          "height": 642
        },
        "outputId": "c09c5c63-c99e-432f-f808-1fed3f6551bf"
      },
      "execution_count": null,
      "outputs": [
        {
          "output_type": "display_data",
          "data": {
            "text/plain": [
              "<Figure size 432x288 with 1 Axes>"
            ],
            "image/png": "[encoded data removed]"
          },
          "metadata": {}
        },
        {
          "output_type": "display_data",
          "data": {
            "text/plain": [
              "<Figure size 432x288 with 0 Axes>"
            ]
          },
          "metadata": {}
        },
        {
          "output_type": "stream",
          "name": "stdout",
          "text": [
            "\n",
            "\n",
            "\n"
          ]
        },
        {
          "output_type": "display_data",
          "data": {
            "text/plain": [
              "<Figure size 432x288 with 1 Axes>"
            ],
            "image/png": "[encoded data removed]"
          },
          "metadata": {}
        }
      ]
    },
    {
      "cell_type": "code",
      "source": [
        "y_pred = model.predict(x_train)\n",
        "y_pred = np.argmax(y_pred, axis=1)\n",
        "class_labels = x_test.class_indices\n",
        "class_labels = {v:k for k,v in class_labels.items()}\n",
        "\n",
        "from sklearn.metrics import classification_report, confusion_matrix\n",
        "cm_train = confusion_matrix(x_train.classes, y_pred)\n",
        "print('Confusion Matrix')\n",
        "print(cm_train)\n",
        "print('Classification Report')\n",
        "target_names = list(class_labels.values())\n",
        "print(classification_report(x_train.classes, y_pred, target_names=target_names))\n",
        "\n",
        "plt.figure(figsize=(8,8))\n",
        "plt.imshow(cm_train, interpolation='nearest')\n",
        "plt.colorbar()\n",
        "tick_mark = np.arange(len(target_names))\n",
        "_ = plt.xticks(tick_mark, target_names, rotation=90)\n",
        "_ = plt.yticks(tick_mark, target_names)"
      ],
      "metadata": {
        "id": "sHQVMAjGLBFf",
        "colab": {
          "base_uri": "https://localhost:8080/",
          "height": 819
        },
        "outputId": "a5b25d2b-de60-4180-c869-ccf304bad88b"
      },
      "execution_count": null,
      "outputs": [
        {
          "output_type": "stream",
          "name": "stdout",
          "text": [
            "928/928 [==============================] - 857s 921ms/step\n",
            "Confusion Matrix\n",
            "[[ 141    2   43    0 5751]\n",
            " [ 112    3   21    0 5801]\n",
            " [ 135    3   34    0 5765]\n",
            " [ 143    0   41    0 5753]\n",
            " [ 140    0   35    0 5762]]\n",
            "Classification Report\n",
            "              precision    recall  f1-score   support\n",
            "\n",
            "           0       0.21      0.02      0.04      5937\n",
            "           1       0.38      0.00      0.00      5937\n",
            "           2       0.20      0.01      0.01      5937\n",
            "           3       0.00      0.00      0.00      5937\n",
            "           4       0.20      0.97      0.33      5937\n",
            "\n",
            "    accuracy                           0.20     29685\n",
            "   macro avg       0.20      0.20      0.08     29685\n",
            "weighted avg       0.20      0.20      0.08     29685\n",
            "\n"
          ]
        },
        {
          "output_type": "display_data",
          "data": {
            "text/plain": [
              "<Figure size 576x576 with 2 Axes>"
            ],
            "image/png": "[encoded data removed]"
          },
          "metadata": {}
        }
      ]
    },
    {
      "cell_type": "code",
      "source": [
        "y_pred.size"
      ],
      "metadata": {
        "colab": {
          "base_uri": "https://localhost:8080/"
        },
        "id": "MXxwSHSxOfPE",
        "outputId": "33ad09e0-112f-4878-e2ca-9660617a5b1d"
      },
      "execution_count": null,
      "outputs": [
        {
          "output_type": "execute_result",
          "data": {
            "text/plain": [
              "29685"
            ]
          },
          "metadata": {},
          "execution_count": 35
        }
      ]
    },
    {
      "cell_type": "code",
      "source": [
        "y_test = x_train.classes"
      ],
      "metadata": {
        "id": "5Vl1BL79LBJU"
      },
      "execution_count": null,
      "outputs": []
    },
    {
      "cell_type": "code",
      "source": [],
      "metadata": {
        "id": "6k11gT9CLBOu"
      },
      "execution_count": null,
      "outputs": []
    },
    {
      "cell_type": "code",
      "source": [],
      "metadata": {
        "id": "gS5SYGDzCrLV"
      },
      "execution_count": null,
      "outputs": []
    },
    {
      "cell_type": "code",
      "source": [],
      "metadata": {
        "id": "qwzsDnFWXVaM"
      },
      "execution_count": null,
      "outputs": []
    },
    {
      "cell_type": "markdown",
      "source": [
        "# RESTNet50"
      ],
      "metadata": {
        "id": "_477mBinHV8e"
      }
    },
    {
      "cell_type": "code",
      "source": [
        "# Initializing a Sequential model:\n",
        "\n",
        "\n",
        "model1 = Sequential()\n",
        "model1.add(ResNet50(input_shape =  t_x.shape[1:], include_top = False, weights = 'imagenet'))\n",
        "model1.trainable = False\n",
        "model1.add(Flatten())\n",
        "model1.add(BatchNormalization())\n",
        "model1.add(Dense(64,kernel_initializer='he_uniform'))\n",
        "model1.add(BatchNormalization())\n",
        "model1.add(Activation('relu'))\n",
        "model1.add(Dropout(0.5))\n",
        "model1.add(Dense(128,kernel_initializer='he_uniform'))\n",
        "model1.add(BatchNormalization())\n",
        "model1.add(Activation('relu'))\n",
        "model1.add(Dropout(0.5))\n",
        "model1.add(Dense(256,kernel_initializer='he_uniform'))\n",
        "model1.add(BatchNormalization())\n",
        "model1.add(Activation('relu'))\n",
        "model1.add(Dropout(0.5))\n",
        "model1.add(Dense(64,kernel_initializer='he_uniform'))\n",
        "model1.add(BatchNormalization())\n",
        "model1.add(Activation('relu'))\n",
        "model1.add(Dropout(0.5))\n",
        "model1.add(Dense(32,kernel_initializer='he_uniform'))\n",
        "model1.add(BatchNormalization())\n",
        "model1.add(Activation('relu'))\n",
        "model1.add(Dropout(0.5))\n",
        "# Creating an output layer\n",
        "model1.add(Dense(units= 5, activation='softmax'))\n",
        "\n",
        "from keras.metrics import top_k_categorical_accuracy\n",
        "\n",
        "def top_2_accuracy(in_gt, in_pred):\n",
        "    return top_k_categorical_accuracy(in_gt, in_pred, k=2)\n",
        "\n",
        "model1.compile(optimizer = 'adam', loss = 'categorical_crossentropy', metrics = ['categorical_accuracy', top_2_accuracy])\n",
        "model1.summary()"
      ],
      "metadata": {
        "colab": {
          "base_uri": "https://localhost:8080/"
        },
        "id": "vRaofdpNXViO",
        "outputId": "4077993a-68b4-4f83-94f1-4db1bef7382c"
      },
      "execution_count": null,
      "outputs": [
        {
          "output_type": "stream",
          "name": "stdout",
          "text": [
            "Downloading data from https://storage.googleapis.com/tensorflow/keras-applications/resnet/resnet50_weights_tf_dim_ordering_tf_kernels_notop.h5\n",
            "94765736/94765736 [==============================] - 6s 0us/step\n",
            "Model: \"sequential_1\"\n",
            "_________________________________________________________________\n",
            " Layer (type)                Output Shape              Param #   \n",
            "=================================================================\n",
            " resnet50 (Functional)       (None, 8, 8, 2048)        23587712  \n",
            "                                                                 \n",
            " flatten_1 (Flatten)         (None, 131072)            0         \n",
            "                                                                 \n",
            " batch_normalization_209 (Ba  (None, 131072)           524288    \n",
            " tchNormalization)                                               \n",
            "                                                                 \n",
            " dense_6 (Dense)             (None, 64)                8388672   \n",
            "                                                                 \n",
            " batch_normalization_210 (Ba  (None, 64)               256       \n",
            " tchNormalization)                                               \n",
            "                                                                 \n",
            " activation_208 (Activation)  (None, 64)               0         \n",
            "                                                                 \n",
            " dropout_5 (Dropout)         (None, 64)                0         \n",
            "                                                                 \n",
            " dense_7 (Dense)             (None, 128)               8320      \n",
            "                                                                 \n",
            " batch_normalization_211 (Ba  (None, 128)              512       \n",
            " tchNormalization)                                               \n",
            "                                                                 \n",
            " activation_209 (Activation)  (None, 128)              0         \n",
            "                                                                 \n",
            " dropout_6 (Dropout)         (None, 128)               0         \n",
            "                                                                 \n",
            " dense_8 (Dense)             (None, 256)               33024     \n",
            "                                                                 \n",
            " batch_normalization_212 (Ba  (None, 256)              1024      \n",
            " tchNormalization)                                               \n",
            "                                                                 \n",
            " activation_210 (Activation)  (None, 256)              0         \n",
            "                                                                 \n",
            " dropout_7 (Dropout)         (None, 256)               0         \n",
            "                                                                 \n",
            " dense_9 (Dense)             (None, 64)                16448     \n",
            "                                                                 \n",
            " batch_normalization_213 (Ba  (None, 64)               256       \n",
            " tchNormalization)                                               \n",
            "                                                                 \n",
            " activation_211 (Activation)  (None, 64)               0         \n",
            "                                                                 \n",
            " dropout_8 (Dropout)         (None, 64)                0         \n",
            "                                                                 \n",
            " dense_10 (Dense)            (None, 32)                2080      \n",
            "                                                                 \n",
            " batch_normalization_214 (Ba  (None, 32)               128       \n",
            " tchNormalization)                                               \n",
            "                                                                 \n",
            " activation_212 (Activation)  (None, 32)               0         \n",
            "                                                                 \n",
            " dropout_9 (Dropout)         (None, 32)                0         \n",
            "                                                                 \n",
            " dense_11 (Dense)            (None, 5)                 165       \n",
            "                                                                 \n",
            "=================================================================\n",
            "Total params: 32,562,885\n",
            "Trainable params: 0\n",
            "Non-trainable params: 32,562,885\n",
            "_________________________________________________________________\n"
          ]
        }
      ]
    },
    {
      "cell_type": "code",
      "source": [
        "history1 = model1.fit(\n",
        "        x_train,\n",
        "        steps_per_epoch=x_train.samples // 64,\n",
        "        epochs=5,\n",
        "        validation_data=x_test,\n",
        "        validation_steps=x_test.samples // 64,\n",
        "        callbacks=callbacks)\n",
        "model1.save_weights(\"dr_messidor.h5\")"
      ],
      "metadata": {
        "colab": {
          "base_uri": "https://localhost:8080/"
        },
        "id": "RSVyI6ypXoJt",
        "outputId": "f1e38535-7678-4466-8e92-0ee6025d29b9"
      },
      "execution_count": null,
      "outputs": [
        {
          "output_type": "stream",
          "name": "stdout",
          "text": [
            "Epoch 1/5\n",
            "460/460 [==============================] - ETA: 0s - loss: 2.2272 - categorical_accuracy: 0.1983 - top_2_accuracy: 0.3983"
          ]
        },
        {
          "output_type": "stream",
          "name": "stderr",
          "text": [
            "WARNING:tensorflow:Can save best model only with val_top2_accuracy available, skipping.\n"
          ]
        },
        {
          "output_type": "stream",
          "name": "stdout",
          "text": [
            "\b\b\b\b\b\b\b\b\b\b\b\b\b\b\b\b\b\b\b\b\b\b\b\b\b\b\b\b\b\b\b\b\b\b\b\b\b\b\b\b\b\b\b\b\b\b\b\b\b\b\b\b\b\b\b\b\b\b\b\b\b\b\b\b\b\b\b\b\b\b\b\b\b\b\b\b\b\b\b\b\b\b\b\b\b\b\b\b\b\b\b\b\b\b\b\b\b\b\b\b\b\b\b\b\b\b\b\b\b\b\b\b\b\b\b\b\b\b\b\b\b\r460/460 [==============================] - 3886s 8s/step - loss: 2.2272 - categorical_accuracy: 0.1983 - top_2_accuracy: 0.3983 - val_loss: 1.8184 - val_categorical_accuracy: 0.0353 - val_top_2_accuracy: 0.0827 - lr: 0.0010\n",
            "Epoch 2/5\n",
            "460/460 [==============================] - ETA: 0s - loss: 2.2209 - categorical_accuracy: 0.1982 - top_2_accuracy: 0.4025"
          ]
        },
        {
          "output_type": "stream",
          "name": "stderr",
          "text": [
            "WARNING:tensorflow:Can save best model only with val_top2_accuracy available, skipping.\n"
          ]
        },
        {
          "output_type": "stream",
          "name": "stdout",
          "text": [
            "\b\b\b\b\b\b\b\b\b\b\b\b\b\b\b\b\b\b\b\b\b\b\b\b\b\b\b\b\b\b\b\b\b\b\b\b\b\b\b\b\b\b\b\b\b\b\b\b\b\b\b\b\b\b\b\b\b\b\b\b\b\b\b\b\b\b\b\b\b\b\b\b\b\b\b\b\b\b\b\b\b\b\b\b\b\b\b\b\b\b\b\b\b\b\b\b\b\b\b\b\b\b\b\b\b\b\b\b\b\b\b\b\b\b\b\b\b\b\b\b\b\r460/460 [==============================] - 1322s 3s/step - loss: 2.2209 - categorical_accuracy: 0.1982 - top_2_accuracy: 0.4025 - val_loss: 1.8484 - val_categorical_accuracy: 0.0433 - val_top_2_accuracy: 0.0867 - lr: 0.0010\n",
            "Epoch 3/5\n",
            "460/460 [==============================] - ETA: 0s - loss: 2.2153 - categorical_accuracy: 0.2061 - top_2_accuracy: 0.4014"
          ]
        },
        {
          "output_type": "stream",
          "name": "stderr",
          "text": [
            "WARNING:tensorflow:Can save best model only with val_top2_accuracy available, skipping.\n"
          ]
        },
        {
          "output_type": "stream",
          "name": "stdout",
          "text": [
            "\b\b\b\b\b\b\b\b\b\b\b\b\b\b\b\b\b\b\b\b\b\b\b\b\b\b\b\b\b\b\b\b\b\b\b\b\b\b\b\b\b\b\b\b\b\b\b\b\b\b\b\b\b\b\b\b\b\b\b\b\b\b\b\b\b\b\b\b\b\b\b\b\b\b\b\b\b\b\b\b\b\b\b\b\b\b\b\b\b\b\b\b\b\b\b\b\b\b\b\b\b\b\b\b\b\b\b\b\b\b\b\b\b\b\b\b\b\b\b\b\b\r460/460 [==============================] - 806s 2s/step - loss: 2.2153 - categorical_accuracy: 0.2061 - top_2_accuracy: 0.4014 - val_loss: 1.8319 - val_categorical_accuracy: 0.0423 - val_top_2_accuracy: 0.0978 - lr: 0.0010\n",
            "Epoch 4/5\n",
            "460/460 [==============================] - ETA: 0s - loss: 2.2210 - categorical_accuracy: 0.1996 - top_2_accuracy: 0.3977"
          ]
        },
        {
          "output_type": "stream",
          "name": "stderr",
          "text": [
            "WARNING:tensorflow:Can save best model only with val_top2_accuracy available, skipping.\n"
          ]
        },
        {
          "output_type": "stream",
          "name": "stdout",
          "text": [
            "\b\b\b\b\b\b\b\b\b\b\b\b\b\b\b\b\b\b\b\b\b\b\b\b\b\b\b\b\b\b\b\b\b\b\b\b\b\b\b\b\b\b\b\b\b\b\b\b\b\b\b\b\b\b\b\b\b\b\b\b\b\b\b\b\b\b\b\b\b\b\b\b\b\b\b\b\b\b\b\b\b\b\b\b\b\b\b\b\b\b\b\b\b\b\b\b\b\b\b\b\b\b\b\b\b\b\b\b\b\b\b\b\b\b\b\b\b\b\b\b\b\r460/460 [==============================] - 629s 1s/step - loss: 2.2210 - categorical_accuracy: 0.1996 - top_2_accuracy: 0.3977 - val_loss: 1.8430 - val_categorical_accuracy: 0.0363 - val_top_2_accuracy: 0.0867 - lr: 0.0010\n",
            "Epoch 5/5\n",
            "460/460 [==============================] - ETA: 0s - loss: 2.2224 - categorical_accuracy: 0.1955 - top_2_accuracy: 0.3911"
          ]
        },
        {
          "output_type": "stream",
          "name": "stderr",
          "text": [
            "WARNING:tensorflow:Can save best model only with val_top2_accuracy available, skipping.\n"
          ]
        },
        {
          "output_type": "stream",
          "name": "stdout",
          "text": [
            "\b\b\b\b\b\b\b\b\b\b\b\b\b\b\b\b\b\b\b\b\b\b\b\b\b\b\b\b\b\b\b\b\b\b\b\b\b\b\b\b\b\b\b\b\b\b\b\b\b\b\b\b\b\b\b\b\b\b\b\b\b\b\b\b\b\b\b\b\b\b\b\b\b\b\b\b\b\b\b\b\b\b\b\b\b\b\b\b\b\b\b\b\b\b\b\b\b\b\b\b\b\b\b\b\b\b\b\b\b\b\b\b\b\b\b\b\b\b\b\b\b\r460/460 [==============================] - 538s 1s/step - loss: 2.2224 - categorical_accuracy: 0.1955 - top_2_accuracy: 0.3911 - val_loss: 1.8579 - val_categorical_accuracy: 0.0413 - val_top_2_accuracy: 0.0817 - lr: 0.0010\n"
          ]
        }
      ]
    },
    {
      "cell_type": "code",
      "source": [
        "train_score1 = model1.evaluate(x_train)\n",
        "test_score1 = model1.evaluate(x_test)"
      ],
      "metadata": {
        "colab": {
          "base_uri": "https://localhost:8080/"
        },
        "id": "ARktN4K-XoUw",
        "outputId": "83d82a18-9730-436b-cc91-1d3745c1d7ce"
      },
      "execution_count": null,
      "outputs": [
        {
          "output_type": "stream",
          "name": "stdout",
          "text": [
            "922/922 [==============================] - 920s 998ms/step - loss: 1.6618 - categorical_accuracy: 0.2048 - top_2_accuracy: 0.4042\n",
            "64/64 [==============================] - 72s 1s/step - loss: 1.8559 - categorical_accuracy: 0.0378 - top_2_accuracy: 0.0859\n"
          ]
        }
      ]
    },
    {
      "cell_type": "code",
      "source": [
        "print(\"Final training categorical accuracy = {:.2f} , Final validation categorical accuracy = {:.2f}\".format(train_score1[1]*100, test_score1[1]*100))\n",
        "print(\"Final training Top 2 accuracy = {:.2f} , Final validation Top 2 accuracy = {:.2f}\".format(train_score1[2]*100, test_score1[2]*100))\n",
        "print(\"Final training loss = {:.2f} , Final validation loss = {:.2f}\".format(train_score1[0], test_score1[0]))"
      ],
      "metadata": {
        "colab": {
          "base_uri": "https://localhost:8080/"
        },
        "id": "ou9vJyQOXoXj",
        "outputId": "b3160cda-6371-4f89-b816-ba5a55f34953"
      },
      "execution_count": null,
      "outputs": [
        {
          "output_type": "stream",
          "name": "stdout",
          "text": [
            "Final training categorical accuracy = 20.48 , Final validation categorical accuracy = 3.78\n",
            "Final training Top 2 accuracy = 40.42 , Final validation Top 2 accuracy = 8.59\n",
            "Final training loss = 1.66 , Final validation loss = 1.86\n"
          ]
        }
      ]
    },
    {
      "cell_type": "code",
      "source": [],
      "metadata": {
        "id": "7T-q9AduXoaO"
      },
      "execution_count": null,
      "outputs": []
    },
    {
      "cell_type": "code",
      "source": [
        "import seaborn as sb\n",
        "\n",
        "sb.set_style(\"darkgrid\")\n",
        "\n",
        "Categorical_Acuracy1 = history1.history['categorical_accuracy']\n",
        "Top_2_Accuracy1 = history1.history['top_2_accuracy']\n",
        "Val_Categorical_Accuracy1 = history1.history['val_categorical_accuracy']\n",
        "\n",
        "Loss1 = history1.history['loss']\n",
        "Val_Loss1 = history1.history['val_loss']\n",
        "\n",
        "Epochs1 = range(1, len(Categorical_Acuracy1) + 1)\n",
        "\n",
        "#Train and validation accuracy\n",
        "plt.plot(Epochs1, Categorical_Acuracy1, 'b', label='Training accuracy')\n",
        "plt.plot(Epochs1, Top_2_Accuracy1, 'g', label='Top 2 accuracy')\n",
        "plt.plot(Epochs1, Val_Categorical_Accuracy1, 'r', label='Validation accuracy')\n",
        "plt.xlabel('# of Epochs')\n",
        "plt.ylabel('Accuracy')\n",
        "plt.title('Accuracy Vs Epochs')\n",
        "plt.legend()\n",
        "\n",
        "plt.figure()\n",
        "\n",
        "plt.show()\n",
        "\n",
        "\n",
        "\n",
        "print(\"\\n\\n\")\n",
        "\n",
        "\n",
        "\n",
        "#Train and validation loss\n",
        "\n",
        "\n",
        "\n",
        "plt.plot(Epochs1, Loss1, 'b', label='Training loss')\n",
        "\n",
        "plt.plot(Epochs1, Val_Loss1, 'r', label='Validation loss')\n",
        "\n",
        "plt.xlabel('# of Epochs')\n",
        "\n",
        "plt.ylabel('Loss')\n",
        "\n",
        "plt.title('Loss Vs Epochs')\n",
        "\n",
        "plt.legend()\n",
        "\n",
        "\n",
        "\n",
        "plt.show()"
      ],
      "metadata": {
        "colab": {
          "base_uri": "https://localhost:8080/",
          "height": 642
        },
        "id": "KrzXGeEHXonZ",
        "outputId": "b281270c-e1be-4801-b626-f0ee843955a8"
      },
      "execution_count": null,
      "outputs": [
        {
          "output_type": "display_data",
          "data": {
            "text/plain": [
              "<Figure size 432x288 with 1 Axes>"
            ],
            "image/png": "[encoded data removed]"
          },
          "metadata": {}
        },
        {
          "output_type": "display_data",
          "data": {
            "text/plain": [
              "<Figure size 432x288 with 0 Axes>"
            ]
          },
          "metadata": {}
        },
        {
          "output_type": "stream",
          "name": "stdout",
          "text": [
            "\n",
            "\n",
            "\n"
          ]
        },
        {
          "output_type": "display_data",
          "data": {
            "text/plain": [
              "<Figure size 432x288 with 1 Axes>"
            ],
            "image/png": "[encoded data removed]"
          },
          "metadata": {}
        }
      ]
    },
    {
      "cell_type": "code",
      "source": [
        "y_pred1 = model1.predict(x_train)\n",
        "y_pred1 = np.argmax(y_pred1, axis=1)\n",
        "class_labels1 = x_test.class_indices\n",
        "class_labels1 = {v:k for k,v in class_labels1.items()}\n",
        "\n",
        "from sklearn.metrics import classification_report, confusion_matrix\n",
        "cm_train1 = confusion_matrix(x_train.classes, y_pred1)\n",
        "print('Confusion Matrix')\n",
        "print(cm_train1)\n",
        "print('Classification Report')\n",
        "target_names1 = list(class_labels1.values())\n",
        "print(classification_report(x_train.classes, y_pred1, target_names=target_names1))\n",
        "\n",
        "plt.figure(figsize=(8,8))\n",
        "plt.imshow(cm_train1, interpolation='nearest')\n",
        "plt.colorbar()\n",
        "tick_mark1 = np.arange(len(target_names1))\n",
        "_ = plt.xticks(tick_mark1, target_names1, rotation=90)\n",
        "_ = plt.yticks(tick_mark1, target_names1)"
      ],
      "metadata": {
        "colab": {
          "base_uri": "https://localhost:8080/",
          "height": 819
        },
        "id": "Rfe32hlgX4ox",
        "outputId": "c857aa2b-883e-4741-e172-4c1b824e41dd"
      },
      "execution_count": null,
      "outputs": [
        {
          "output_type": "stream",
          "name": "stdout",
          "text": [
            "922/922 [==============================] - 851s 921ms/step\n",
            "Confusion Matrix\n",
            "[[  24 1885    1 2249 1737]\n",
            " [  31 1864    0 2263 1738]\n",
            " [  37 1949    0 2258 1652]\n",
            " [  28 1834    1 2248 1785]\n",
            " [  34 1869    2 2288 1703]]\n",
            "Classification Report\n",
            "              precision    recall  f1-score   support\n",
            "\n",
            "           0       0.16      0.00      0.01      5896\n",
            "           1       0.20      0.32      0.24      5896\n",
            "           2       0.00      0.00      0.00      5896\n",
            "           3       0.20      0.38      0.26      5896\n",
            "           4       0.20      0.29      0.23      5896\n",
            "\n",
            "    accuracy                           0.20     29480\n",
            "   macro avg       0.15      0.20      0.15     29480\n",
            "weighted avg       0.15      0.20      0.15     29480\n",
            "\n"
          ]
        },
        {
          "output_type": "display_data",
          "data": {
            "text/plain": [
              "<Figure size 576x576 with 2 Axes>"
            ],
            "image/png": "[encoded data removed]"
          },
          "metadata": {}
        }
      ]
    },
    {
      "cell_type": "code",
      "source": [],
      "metadata": {
        "id": "GuOVpQCLJxDX"
      },
      "execution_count": null,
      "outputs": []
    },
    {
      "cell_type": "code",
      "source": [],
      "metadata": {
        "id": "gAPIYqbMJxGS"
      },
      "execution_count": null,
      "outputs": []
    },
    {
      "cell_type": "code",
      "source": [],
      "metadata": {
        "id": "s7dQ37rPJxQO"
      },
      "execution_count": null,
      "outputs": []
    }
  ]
}